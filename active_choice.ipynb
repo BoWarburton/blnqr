{
  "nbformat": 4,
  "nbformat_minor": 0,
  "metadata": {
    "colab": {
      "name": "active_choice.ipynb",
      "provenance": [],
      "collapsed_sections": [],
      "include_colab_link": true
    },
    "kernelspec": {
      "name": "python3",
      "display_name": "Python 3"
    }
  },
  "cells": [
    {
      "cell_type": "markdown",
      "metadata": {
        "id": "view-in-github",
        "colab_type": "text"
      },
      "source": [
        "<a href=\"https://colab.research.google.com/github/BoWarburton/blnqr/blob/master/active_choice.ipynb\" target=\"_parent\"><img src=\"https://colab.research.google.com/assets/colab-badge.svg\" alt=\"Open In Colab\"/></a>"
      ]
    },
    {
      "cell_type": "markdown",
      "metadata": {
        "id": "rqrjkOzgnLIJ",
        "colab_type": "text"
      },
      "source": [
        "# Active Choice\n"
      ]
    },
    {
      "cell_type": "markdown",
      "metadata": {
        "id": "El5J3Z5VomDT",
        "colab_type": "text"
      },
      "source": [
        "### Introduction\n",
        "Active Choice is a low-tech reinforcement learning model.\n",
        "In this example it is tasked with finding the best move in a simple game of 'Rock Paper Scissors Lizard Spock` One model will be given 2 of the three strategies and the other will be given 3 of them.\n",
        "\n",
        "![Image](https://cdn.instructables.com/FIU/AIWE/I7Q0TCUT/FIUAIWEI7Q0TCUT.LARGE.jpg?auto=webp&fit=bounds)\n",
        "\n",
        "### Explanation\n",
        "... Todo\n",
        "\n",
        "### Summary\n",
        "... Todo\n"
      ]
    },
    {
      "cell_type": "code",
      "metadata": {
        "id": "2XEh-EQ51H-x",
        "colab_type": "code",
        "outputId": "70d52674-caec-4a15-a566-41698973e76b",
        "colab": {
          "base_uri": "https://localhost:8080/",
          "height": 207
        }
      },
      "source": [
        "!pip install Fortuna"
      ],
      "execution_count": 0,
      "outputs": [
        {
          "output_type": "stream",
          "text": [
            "Collecting Fortuna\n",
            "\u001b[?25l  Downloading https://files.pythonhosted.org/packages/8f/e1/bd7b69c7a904824c4318b23520243b6e1627bfc6d70376ee2f2ae42c85ea/Fortuna-3.17.6.tar.gz (187kB)\n",
            "\r\u001b[K     |█▊                              | 10kB 13.5MB/s eta 0:00:01\r\u001b[K     |███▌                            | 20kB 1.7MB/s eta 0:00:01\r\u001b[K     |█████▎                          | 30kB 2.3MB/s eta 0:00:01\r\u001b[K     |███████                         | 40kB 1.7MB/s eta 0:00:01\r\u001b[K     |████████▊                       | 51kB 1.8MB/s eta 0:00:01\r\u001b[K     |██████████▌                     | 61kB 2.2MB/s eta 0:00:01\r\u001b[K     |████████████▎                   | 71kB 2.4MB/s eta 0:00:01\r\u001b[K     |██████████████                  | 81kB 2.6MB/s eta 0:00:01\r\u001b[K     |███████████████▊                | 92kB 2.9MB/s eta 0:00:01\r\u001b[K     |█████████████████▌              | 102kB 2.7MB/s eta 0:00:01\r\u001b[K     |███████████████████▎            | 112kB 2.7MB/s eta 0:00:01\r\u001b[K     |█████████████████████           | 122kB 2.7MB/s eta 0:00:01\r\u001b[K     |██████████████████████▊         | 133kB 2.7MB/s eta 0:00:01\r\u001b[K     |████████████████████████▌       | 143kB 2.7MB/s eta 0:00:01\r\u001b[K     |██████████████████████████▎     | 153kB 2.7MB/s eta 0:00:01\r\u001b[K     |████████████████████████████    | 163kB 2.7MB/s eta 0:00:01\r\u001b[K     |█████████████████████████████▉  | 174kB 2.7MB/s eta 0:00:01\r\u001b[K     |███████████████████████████████▌| 184kB 2.7MB/s eta 0:00:01\r\u001b[K     |████████████████████████████████| 194kB 2.7MB/s \n",
            "\u001b[?25hBuilding wheels for collected packages: Fortuna\n",
            "  Building wheel for Fortuna (setup.py) ... \u001b[?25l\u001b[?25hdone\n",
            "  Created wheel for Fortuna: filename=Fortuna-3.17.6-cp36-cp36m-linux_x86_64.whl size=528699 sha256=11e497905e9df0988dec20e3b905a9e621be72a5fdcd69bcf0d037f3c6766872\n",
            "  Stored in directory: /root/.cache/pip/wheels/f0/9c/d2/4c0b30bf48071e20dd4ca6da7c3a031227264db650fa0066c2\n",
            "Successfully built Fortuna\n",
            "Installing collected packages: Fortuna\n",
            "Successfully installed Fortuna-3.17.6\n"
          ],
          "name": "stdout"
        }
      ]
    },
    {
      "cell_type": "code",
      "metadata": {
        "id": "u0fMI7ewU4Hz",
        "colab_type": "code",
        "colab": {}
      },
      "source": [
        "from Fortuna import RelativeWeightedChoice\n",
        "\n",
        "\n",
        "class ActiveChoice:\n",
        "\n",
        "    def __init__(self, name, data, start=50, lo=1, hi=100):\n",
        "        self.name = name\n",
        "        self.raw_data = {k: start for k in data}\n",
        "        self.start = start\n",
        "        self.lo = lo\n",
        "        self.hi = hi\n",
        "        self.data = self.build()\n",
        "        self.wins = 0.0\n",
        "        self.losses = 0.0\n",
        "\n",
        "    def __call__(self):\n",
        "        return self.data()\n",
        "\n",
        "    def build(self):\n",
        "        return RelativeWeightedChoice(\n",
        "            zip(self.raw_data.values(), self.raw_data.keys()))\n",
        "\n",
        "    def winner(self, result):\n",
        "        self.wins += 1\n",
        "        if self.raw_data[result] < self.hi:\n",
        "            self.raw_data[result] += 1\n",
        "            self.data = self.build()\n",
        "\n",
        "    def looser(self, result):\n",
        "        self.losses += 1\n",
        "        if self.raw_data[result] > self.lo:\n",
        "            self.raw_data[result] -= 1\n",
        "            self.data = self.build()\n",
        "\n",
        "    def win_ratio(self):\n",
        "        total_games = self.wins + self.losses\n",
        "        return self.wins / total_games if total_games else total_games\n",
        "\n",
        "    def __str__(self):\n",
        "        max_weight = max(self.raw_data.values())\n",
        "        output = (\n",
        "            f\"{self.name}: {self.raw_data}\",\n",
        "            f\"Best strategies: \" + \", \".join(\n",
        "                k for k, v in self.raw_data.items() if v == max_weight),\n",
        "            f\"Win Rate: {self.win_ratio():.2%}\",\n",
        "            \"\"\n",
        "        ) if self.win_ratio() else (f\"{self.name}: {self.raw_data}\", \"\")\n",
        "        return \"\\n\".join(output)"
      ],
      "execution_count": 0,
      "outputs": []
    },
    {
      "cell_type": "code",
      "metadata": {
        "id": "oDJYF3qEVA0Z",
        "colab_type": "code",
        "colab": {}
      },
      "source": [
        "def run_game(team_a, team_b, cycles=10000):\n",
        "    game_rules = {\n",
        "        \"rock\": {\n",
        "            \"rock\": 0, \"paper\": -1, \"scissors\": 1, \"lizard\": 1, \"spock\": -1},\n",
        "        \"paper\": {\n",
        "            \"rock\": 1, \"paper\": 0, \"scissors\": -1, \"lizard\": -1, \"spock\": 1},\n",
        "        \"scissors\": {\n",
        "            \"rock\": -1, \"paper\": 1, \"scissors\": 0, \"lizard\": 1, \"spock\": -1},\n",
        "        \"lizard\": {\n",
        "            \"rock\": -1, \"paper\": 1, \"scissors\": -1, \"lizard\": 0, \"spock\": 1},\n",
        "        \"spock\": {\n",
        "            \"rock\": 1, \"paper\": -1, \"scissors\": 1, \"lizard\": -1, \"spock\": 0},\n",
        "    }\n",
        "\n",
        "    def game():\n",
        "        a = team_a()\n",
        "        b = team_b()\n",
        "        this_game = game_rules[a][b]\n",
        "        if this_game > 0:\n",
        "            team_a.winner(a)\n",
        "            team_b.looser(b)\n",
        "        elif this_game < 0:\n",
        "            team_a.looser(a)\n",
        "            team_b.winner(b)\n",
        "        else:\n",
        "            team_a.looser(a)\n",
        "            team_b.looser(b)\n",
        "\n",
        "    for _ in range(cycles):\n",
        "        game()"
      ],
      "execution_count": 0,
      "outputs": []
    },
    {
      "cell_type": "code",
      "metadata": {
        "id": "2YjTNxreVDjq",
        "colab_type": "code",
        "outputId": "a35b24f2-ed38-4763-e126-48373fdd5ff1",
        "colab": {
          "base_uri": "https://localhost:8080/",
          "height": 153
        }
      },
      "source": [
        "team_1 = ActiveChoice(\"Team 1\", (\"lizard\", \"scissors\"))\n",
        "team_2 = ActiveChoice(\"Team 2\", (\"rock\", \"paper\", \"spock\"))\n",
        "\n",
        "run_game(team_1, team_2)\n",
        "print(team_1)\n",
        "print(team_2)"
      ],
      "execution_count": 0,
      "outputs": [
        {
          "output_type": "stream",
          "text": [
            "Team 1: {'lizard': 1, 'scissors': 1}\n",
            "Best strategies: lizard, scissors\n",
            "Win Rate: 4.04%\n",
            "\n",
            "Team 2: {'rock': 100, 'paper': 1, 'spock': 5}\n",
            "Best strategies: rock\n",
            "Win Rate: 95.96%\n",
            "\n"
          ],
          "name": "stdout"
        }
      ]
    }
  ]
}